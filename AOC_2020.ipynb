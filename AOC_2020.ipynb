{
 "metadata": {
  "language_info": {
   "codemirror_mode": {
    "name": "ipython",
    "version": 3
   },
   "file_extension": ".py",
   "mimetype": "text/x-python",
   "name": "python",
   "nbconvert_exporter": "python",
   "pygments_lexer": "ipython3",
   "version": "3.8.2-final"
  },
  "orig_nbformat": 2,
  "kernelspec": {
   "name": "python3",
   "display_name": "Python 3"
  }
 },
 "nbformat": 4,
 "nbformat_minor": 2,
 "cells": [
  {
   "cell_type": "code",
   "execution_count": 2,
   "metadata": {},
   "outputs": [],
   "source": [
    "###############\n",
    "###  DAY 1  ###\n",
    "###############\n",
    "\n",
    "import itertools\n",
    "\n",
    "with open('input/day1.txt') as f:\n",
    "    myinput = list(map(int,(f.read().splitlines())))"
   ]
  },
  {
   "cell_type": "code",
   "execution_count": 24,
   "metadata": {},
   "outputs": [
    {
     "output_type": "stream",
     "name": "stdout",
     "text": [
      "290784\n"
     ]
    }
   ],
   "source": [
    "# PART 1\n",
    "target = 2020\n",
    "\n",
    "for nums in itertools.combinations(myinput,2): # cycle through all the combinations of the list\n",
    "    if sum(nums) == target:\n",
    "        print(nums[0]*nums[1])\n",
    "    "
   ]
  },
  {
   "cell_type": "code",
   "execution_count": 25,
   "metadata": {},
   "outputs": [
    {
     "output_type": "stream",
     "name": "stdout",
     "text": [
      "177337980\n"
     ]
    }
   ],
   "source": [
    "# PART 2\n",
    "for nums in itertools.combinations(myinput,3):\n",
    "    if sum(nums) == target:\n",
    "        print(nums[0]*nums[1]*nums[2])"
   ]
  },
  {
   "cell_type": "code",
   "execution_count": 64,
   "metadata": {
    "tags": []
   },
   "outputs": [],
   "source": [
    "###############\n",
    "###  DAY 2  ###\n",
    "###############\n",
    "\n",
    "# brute-force solution, not very proud of this one!\n",
    "\n",
    "with open('input/day2.txt') as f:\n",
    "    myinput = f.read().splitlines()"
   ]
  },
  {
   "cell_type": "code",
   "execution_count": 63,
   "metadata": {},
   "outputs": [
    {
     "output_type": "stream",
     "name": "stdout",
     "text": [
      "620\n"
     ]
    }
   ],
   "source": [
    "# PART 1\n",
    "validpass = 0\n",
    "for password in range(len(myinput)):\n",
    "    currentpass = myinput[password].split(' ')\n",
    "    passvals = currentpass[0].split('-')\n",
    "    if int(passvals[0]) <= int(currentpass[2].count(currentpass[1][0])) <= int(passvals[1]):\n",
    "        validpass += 1\n",
    "    else:\n",
    "        pass\n",
    "print(validpass)"
   ]
  },
  {
   "cell_type": "code",
   "execution_count": 87,
   "metadata": {},
   "outputs": [
    {
     "output_type": "stream",
     "name": "stdout",
     "text": [
      "727\n"
     ]
    }
   ],
   "source": [
    "# PART 2\n",
    "validpass = 0\n",
    "for password in range(len(myinput)):\n",
    "    currentpass = myinput[password].split(' ')\n",
    "    passvals = currentpass[0].split('-')\n",
    "    if currentpass[2][int(passvals[0])-1] == currentpass[1][0]: # if the first position is true\n",
    "        if currentpass[2][int(passvals[1])-1] == currentpass[1][0]: # if the second position is true\n",
    "            pass # password is invalid\n",
    "        else:\n",
    "            validpass += 1 # the password is valid\n",
    "    elif currentpass[2][int(passvals[1])-1] == currentpass[1][0]: # if the second position is true, we know the first position is not true\n",
    "        validpass +=1 # password is valid\n",
    "    else: # neither position is true\n",
    "        pass # password is invalid\n",
    "print(validpass)"
   ]
  }
 ]
}